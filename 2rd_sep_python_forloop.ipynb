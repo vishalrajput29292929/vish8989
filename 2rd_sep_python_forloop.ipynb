{
 "cells": [
  {
   "cell_type": "code",
   "execution_count": 1,
   "id": "99b9b28a-69ed-44e8-81e3-9ebae480d9fd",
   "metadata": {},
   "outputs": [],
   "source": [
    "#1. Write a Python program to print the numbers from 1 to 10 using a `for` loop."
   ]
  },
  {
   "cell_type": "code",
   "execution_count": 2,
   "id": "e99bd8e5-8e70-49fc-9a41-184bbd33197a",
   "metadata": {},
   "outputs": [
    {
     "name": "stdout",
     "output_type": "stream",
     "text": [
      "0\n",
      "1\n",
      "2\n",
      "3\n",
      "4\n",
      "5\n",
      "6\n",
      "7\n",
      "8\n",
      "9\n",
      "10\n"
     ]
    }
   ],
   "source": [
    "for i in range(11):\n",
    "    print(i)"
   ]
  },
  {
   "cell_type": "code",
   "execution_count": 3,
   "id": "43df61ee-78fd-4d80-875f-2b9f3971ede5",
   "metadata": {},
   "outputs": [],
   "source": [
    "#2.Create a program that calculates the sum of all numbers in a list using a `for` loop."
   ]
  },
  {
   "cell_type": "code",
   "execution_count": 4,
   "id": "ff819b02-3aa0-44c0-8a3d-3d523a1fc153",
   "metadata": {},
   "outputs": [],
   "source": [
    "l = [1,2,3]"
   ]
  },
  {
   "cell_type": "code",
   "execution_count": 5,
   "id": "0b666c17-1088-47c7-8b58-574960906286",
   "metadata": {},
   "outputs": [
    {
     "name": "stdout",
     "output_type": "stream",
     "text": [
      "sum of element in given l: 6\n"
     ]
    }
   ],
   "source": [
    "for i in range(1):\n",
    "    print('sum of element in given l:',sum(l))\n"
   ]
  },
  {
   "cell_type": "code",
   "execution_count": 6,
   "id": "7eee80fc-89fc-4c3d-9d66-af7459fe88a4",
   "metadata": {},
   "outputs": [],
   "source": [
    "#3. Write a program to print the characters of a string in reverse order using a `for` loop."
   ]
  },
  {
   "cell_type": "code",
   "execution_count": 7,
   "id": "042f9dd7-73d6-4868-8804-2d584474b67a",
   "metadata": {},
   "outputs": [],
   "source": [
    "s = 'vishal'"
   ]
  },
  {
   "cell_type": "code",
   "execution_count": 8,
   "id": "ab76312a-bd6c-41f6-a359-25eb4f8b0c39",
   "metadata": {},
   "outputs": [
    {
     "data": {
      "text/plain": [
       "'vishal'"
      ]
     },
     "execution_count": 8,
     "metadata": {},
     "output_type": "execute_result"
    }
   ],
   "source": [
    "s "
   ]
  },
  {
   "cell_type": "code",
   "execution_count": 9,
   "id": "3ea0e23c-58a2-4575-8a1e-552d92284c04",
   "metadata": {},
   "outputs": [
    {
     "name": "stdout",
     "output_type": "stream",
     "text": [
      "origianl string: <class 'str'>\n",
      "reverse string: hsiv\n"
     ]
    }
   ],
   "source": [
    "def reverse_for(string):\n",
    "    s = \"\"\n",
    "    for x in string:\n",
    "        s = x + s\n",
    "    return s\n",
    "string = \"vish\"\n",
    "print('origianl string:', str)\n",
    "print('reverse string:', reverse_for(string))"
   ]
  },
  {
   "cell_type": "code",
   "execution_count": 10,
   "id": "2f1cdcac-f259-4507-a047-141c1b6ae0fc",
   "metadata": {},
   "outputs": [],
   "source": [
    "#4. Develop a program that finds the factorial of a given number using a `for` loop."
   ]
  },
  {
   "cell_type": "code",
   "execution_count": 11,
   "id": "e905bf5f-f7de-4d92-9c3c-e30efd447933",
   "metadata": {},
   "outputs": [
    {
     "name": "stdin",
     "output_type": "stream",
     "text": [
      "enter a number: 3\n"
     ]
    },
    {
     "name": "stdout",
     "output_type": "stream",
     "text": [
      "factorial of the given number is : 6\n"
     ]
    }
   ],
   "source": [
    "n = int(input('enter a number:'))\n",
    "factorial = 1\n",
    "if n >=1:\n",
    "    for i in range(1,n+1):\n",
    "        factorial = factorial *i\n",
    "print('factorial of the given number is :', factorial)"
   ]
  },
  {
   "cell_type": "code",
   "execution_count": 12,
   "id": "2e8fbbee-8750-4f81-8f70-ccea936984a8",
   "metadata": {},
   "outputs": [],
   "source": [
    "#5.Create a program to print the multiplication table of a given number using a `for` loop."
   ]
  },
  {
   "cell_type": "code",
   "execution_count": 13,
   "id": "a665ea14-5f5d-4392-8b78-e269a39f2f6c",
   "metadata": {},
   "outputs": [
    {
     "name": "stdout",
     "output_type": "stream",
     "text": [
      "1 2 3 4 5 \n",
      "2 4 6 8 10 \n",
      "3 6 9 12 15 \n",
      "4 8 12 16 20 \n",
      "5 10 15 20 25 \n"
     ]
    }
   ],
   "source": [
    "for i in range(1,6): \n",
    "    for j in range(1,6):\n",
    "        print(i*j,end=' ')\n",
    "    print()\n"
   ]
  },
  {
   "cell_type": "code",
   "execution_count": 14,
   "id": "76faa312-7588-42dd-8c89-101c1b39daaa",
   "metadata": {},
   "outputs": [],
   "source": [
    "#6. Write a program that counts the number of even and odd numbers in a list using a `for` loop."
   ]
  },
  {
   "cell_type": "code",
   "execution_count": 15,
   "id": "9ed5e599-5643-4498-a1f3-3c73e748caaa",
   "metadata": {},
   "outputs": [
    {
     "name": "stdout",
     "output_type": "stream",
     "text": [
      "even number in the list: 0\n",
      "odd number in the list: 1\n",
      "even number in the list: 1\n",
      "odd number in the list: 2\n"
     ]
    }
   ],
   "source": [
    "list1 = [1,2,3,4]\n",
    "even_count, odd_count = 0, 0\n",
    "for num in list1:\n",
    "    if num %2 == 0:\n",
    "     even_count +=1\n",
    "    else:\n",
    "        odd_count += 1\n",
    "        print('even number in the list:', even_count)\n",
    "        print('odd number in the list:', odd_count)"
   ]
  },
  {
   "cell_type": "code",
   "execution_count": 16,
   "id": "46e5c1c0-d166-4c4a-af12-ab2db01b23f7",
   "metadata": {},
   "outputs": [],
   "source": [
    "#7. Develop a program that prints the squares of numbers from 1 to 5 using a `for` loop."
   ]
  },
  {
   "cell_type": "code",
   "execution_count": 17,
   "id": "0a15bfa3-96f8-4a4f-a1f5-00a99bea5dc2",
   "metadata": {},
   "outputs": [
    {
     "name": "stdin",
     "output_type": "stream",
     "text": [
      " 3\n"
     ]
    },
    {
     "name": "stdout",
     "output_type": "stream",
     "text": [
      "1*2 = 1\n",
      "2*2 = 4\n",
      "3*2 = 9\n",
      "4*2 = 16\n",
      "5*2 = 25\n"
     ]
    }
   ],
   "source": [
    "n = int(input())\n",
    "for i in range(1,6):\n",
    "    print('%s*2 = %s'%(i,i**2))"
   ]
  },
  {
   "cell_type": "code",
   "execution_count": 18,
   "id": "8f508e23-c2c2-4aa0-a5ad-4cce41da9b97",
   "metadata": {},
   "outputs": [],
   "source": [
    "#8. Create a program to find the length of a string without using the `len()` function."
   ]
  },
  {
   "cell_type": "code",
   "execution_count": 19,
   "id": "9a17d109-e3ac-422f-84d6-a3fbc79d118e",
   "metadata": {},
   "outputs": [
    {
     "name": "stdout",
     "output_type": "stream",
     "text": [
      "6\n"
     ]
    }
   ],
   "source": [
    "counter = 0\n",
    "for c in 'vishal':\n",
    "    counter+=1\n",
    "print(counter)"
   ]
  },
  {
   "cell_type": "code",
   "execution_count": 20,
   "id": "76eb9d9f-0975-41ad-93a7-3cac07ea9230",
   "metadata": {},
   "outputs": [],
   "source": [
    "#9. Write a program that calculates the average of a list of numbers using a `for` loop."
   ]
  },
  {
   "cell_type": "code",
   "execution_count": 21,
   "id": "076df2b1-865e-4dd5-9acb-ccecf6615e43",
   "metadata": {},
   "outputs": [
    {
     "name": "stdout",
     "output_type": "stream",
     "text": [
      "The average is 18.4\n"
     ]
    }
   ],
   "source": [
    "def cal_average(num):\n",
    "    sum_num = 0\n",
    "    for t in num:\n",
    "        sum_num = sum_num + t           \n",
    "    avg = sum_num / len(num)\n",
    "    return avg\n",
    "print(\"The average is\", cal_average([18,25,3,41,5]))\n"
   ]
  },
  {
   "cell_type": "code",
   "execution_count": 22,
   "id": "6e3c6df1-9d9f-4bef-a0ea-a808e1a2cd29",
   "metadata": {},
   "outputs": [],
   "source": [
    "#10. Develop a program that prints the first `n` Fibonacci numbers using a `for` loop.\n"
   ]
  },
  {
   "cell_type": "code",
   "execution_count": 23,
   "id": "d65cf5b0-f86d-4cdc-b16d-3744e9c5cebb",
   "metadata": {},
   "outputs": [
    {
     "name": "stdout",
     "output_type": "stream",
     "text": [
      "0\n",
      "1\n",
      "1\n",
      "2\n",
      "3\n",
      "5\n",
      "8\n",
      "13\n",
      "21\n",
      "34\n"
     ]
    }
   ],
   "source": [
    "first = 0\n",
    "second = 1\n",
    "print(first)\n",
    "print(second)\n",
    "for x in range(1,9):\n",
    "    third = first + second\n",
    "    print(third)\n",
    "    first,second=second,third"
   ]
  },
  {
   "cell_type": "code",
   "execution_count": 24,
   "id": "73eff5bb-8169-4c65-bb43-3899d1a10877",
   "metadata": {},
   "outputs": [],
   "source": [
    "# intermidiate level"
   ]
  },
  {
   "cell_type": "code",
   "execution_count": 25,
   "id": "5ae281a0-b9b7-4a50-aa03-84b28fcac68b",
   "metadata": {},
   "outputs": [],
   "source": [
    "#11. Write a program to check if a given list contains any duplicates using a `for` loop."
   ]
  },
  {
   "cell_type": "code",
   "execution_count": 26,
   "id": "5c42af51-22b7-4481-960a-ebe833168494",
   "metadata": {},
   "outputs": [
    {
     "name": "stdout",
     "output_type": "stream",
     "text": [
      "[20, 30, -20, 60]\n"
     ]
    }
   ],
   "source": [
    "def Repeat(x):\n",
    "    _size = len(x)\n",
    "    repeated = []\n",
    "    for i in range(_size):\n",
    "        k = i + 1\n",
    "        for j in range(k, _size):\n",
    "            if x[i] == x[j] and x[i] not in repeated:\n",
    "                repeated.append(x[i])\n",
    "    return repeated\n",
    " \n",
    "# Driver Code\n",
    "list1 = [10, 20, 30, 20, 20, 30, 40,\n",
    "         50, -20, 60, 60, -20, -20]\n",
    "print (Repeat(list1))\n",
    "     "
   ]
  },
  {
   "cell_type": "code",
   "execution_count": 27,
   "id": "abfe3e3a-a777-41df-9bab-9aa0f7e5196e",
   "metadata": {},
   "outputs": [],
   "source": [
    "#12. Create a program that prints the prime numbers in a given range using a `for` loop."
   ]
  },
  {
   "cell_type": "code",
   "execution_count": 28,
   "id": "978da0da-c8a3-4ba7-8155-066a57631598",
   "metadata": {},
   "outputs": [
    {
     "name": "stdout",
     "output_type": "stream",
     "text": [
      "Prime numbers between 900 and 1000 are:\n",
      "907\n",
      "911\n",
      "919\n",
      "929\n",
      "937\n",
      "941\n",
      "947\n",
      "953\n",
      "967\n",
      "971\n",
      "977\n",
      "983\n",
      "991\n",
      "997\n"
     ]
    }
   ],
   "source": [
    "lower = 900\n",
    "upper = 1000\n",
    "\n",
    "print(\"Prime numbers between\", lower, \"and\", upper, \"are:\")\n",
    "\n",
    "for num in range(lower, upper + 1):\n",
    "   # all prime numbers are greater than 1\n",
    "   if num > 1:\n",
    "       for i in range(2, num):\n",
    "           if (num % i) == 0:\n",
    "               break\n",
    "       else:\n",
    "           print(num)"
   ]
  },
  {
   "cell_type": "code",
   "execution_count": 29,
   "id": "041eb13b-be4e-4db0-abe9-0e3b2fd65397",
   "metadata": {},
   "outputs": [],
   "source": [
    "#13. Develop a program that counts the number of vowels in a string using a `for` loop."
   ]
  },
  {
   "cell_type": "code",
   "execution_count": 30,
   "id": "1b6492c3-8f6d-41ca-b5db-4f09fc491ef5",
   "metadata": {},
   "outputs": [
    {
     "name": "stdout",
     "output_type": "stream",
     "text": [
      "No. of vowels : 5\n"
     ]
    }
   ],
   "source": [
    "# Function to count vowel\n",
    "def vowel_count(str):\n",
    "     \n",
    "    # Initializing count variable to 0\n",
    "    count = 0\n",
    "     \n",
    "    # Creating a set of vowels\n",
    "    vowel = set(\"aeiouAEIOU\")\n",
    "     \n",
    "    # Loop to traverse the alphabet\n",
    "    # in the given string\n",
    "    for alphabet in str:\n",
    "     \n",
    "        # If alphabet is present\n",
    "        # in set vowel\n",
    "        if alphabet in vowel:\n",
    "            count = count + 1\n",
    "     \n",
    "    print(\"No. of vowels :\", count)\n",
    "     \n",
    "# Driver code\n",
    "str = \"GeeksforGeeks\"\n",
    " \n",
    "# Function Call\n",
    "vowel_count(str)"
   ]
  },
  {
   "cell_type": "code",
   "execution_count": 31,
   "id": "c4132b08-6a99-446f-8508-ff95a614a69c",
   "metadata": {},
   "outputs": [],
   "source": [
    "#14. Write a program to find the maximum element in a 2D list using a nested `for` loop."
   ]
  },
  {
   "cell_type": "code",
   "execution_count": 32,
   "id": "e894b6bd-744f-4b34-8cbc-d7ef9f77278f",
   "metadata": {},
   "outputs": [
    {
     "name": "stdout",
     "output_type": "stream",
     "text": [
      "504\n"
     ]
    }
   ],
   "source": [
    "def prod(lis):\n",
    "    maxi = 0\n",
    "     \n",
    "    # traversal in the lists\n",
    "    for x in lis:\n",
    "       \n",
    "        p = 1\n",
    "         \n",
    "        # traversal in list of lists\n",
    "        for i in x:\n",
    "            p *= i\n",
    "            maxi = max(p, maxi)\n",
    "    return maxi\n",
    " \n",
    " \n",
    "\n",
    "l = [[1, 2, 3], [4, 5, 6], [7, 8, 9]]\n",
    "print(prod(l))"
   ]
  },
  {
   "cell_type": "code",
   "execution_count": 33,
   "id": "31b29e35-c596-452c-8221-417d6c5dbac0",
   "metadata": {},
   "outputs": [],
   "source": [
    "#15. Create a program that removes all occurrences of a specific element from a list using a `for` loop."
   ]
  },
  {
   "cell_type": "code",
   "execution_count": 34,
   "id": "719d829b-1c3d-45cc-9ce3-7b711a363e28",
   "metadata": {},
   "outputs": [
    {
     "name": "stdout",
     "output_type": "stream",
     "text": [
      "[5, 8, 52, 87]\n"
     ]
    }
   ],
   "source": [
    "mylist = [21, 5, 8, 52, 21, 87]\n",
    "r_item = 21\n",
    "\n",
    "#remove the item for all its occurrences\n",
    "for item in mylist:\n",
    "\tif(item==r_item):\n",
    "\t\tmylist.remove(r_item)\n",
    "\n",
    "print(mylist)"
   ]
  },
  {
   "cell_type": "code",
   "execution_count": 35,
   "id": "acef5017-ceba-4164-bbbc-6357fc88940d",
   "metadata": {},
   "outputs": [],
   "source": [
    "#16. Develop a program that generates a multiplication table for numbers from 1 to 5 using a nested `for` loop."
   ]
  },
  {
   "cell_type": "code",
   "execution_count": 4,
   "id": "a4edb097-88c7-4eab-a77c-ba317d021a35",
   "metadata": {},
   "outputs": [
    {
     "name": "stdout",
     "output_type": "stream",
     "text": [
      "1 2 3 4 5 \n",
      "2 4 6 8 10 \n",
      "3 6 9 12 15 \n",
      "4 8 12 16 20 \n",
      "5 10 15 20 25 \n"
     ]
    }
   ],
   "source": [
    "for i in range(1,6):\n",
    "    for j in range(1,6):\n",
    "        print(i*j,end = ' ')\n",
    "    print()\n"
   ]
  },
  {
   "cell_type": "code",
   "execution_count": 37,
   "id": "fb97412a-a965-4104-91e5-f51cde68b83d",
   "metadata": {},
   "outputs": [],
   "source": [
    "#17. Write a program that converts a list of Fahrenheit temperatures to Celsius using a `for` loop."
   ]
  },
  {
   "cell_type": "code",
   "execution_count": 38,
   "id": "30294bf5-01d6-4c2b-a36b-f8952ce87f6d",
   "metadata": {},
   "outputs": [
    {
     "name": "stdin",
     "output_type": "stream",
     "text": [
      "Enter temperature in F-Scale:  2\n"
     ]
    },
    {
     "name": "stdout",
     "output_type": "stream",
     "text": [
      "The tempeature in C-Scale: -16.67\n"
     ]
    }
   ],
   "source": [
    "f = float(input(\"Enter temperature in F-Scale: \"))\n",
    "\n",
    "c = 5 * (f-32)/9\n",
    "\n",
    "print(\"The tempeature in C-Scale:\",round(c,2))"
   ]
  },
  {
   "cell_type": "code",
   "execution_count": 39,
   "id": "c228061e-02c0-4bff-8bd2-7c2913746e21",
   "metadata": {},
   "outputs": [],
   "source": [
    "#19. Develop a program that prints the pattern of right-angled triangles using a `for` loop. Use ‘*’ to draw thepattern"
   ]
  },
  {
   "cell_type": "code",
   "execution_count": 40,
   "id": "8e31a5b9-f428-4598-8678-bacad9883e5d",
   "metadata": {},
   "outputs": [
    {
     "name": "stdin",
     "output_type": "stream",
     "text": [
      "Enter row number=\n",
      " 5\n"
     ]
    },
    {
     "name": "stdout",
     "output_type": "stream",
     "text": [
      "#\n",
      "##\n",
      "###\n",
      "####\n",
      "#####\n"
     ]
    }
   ],
   "source": [
    "x=int(input(\"Enter row number=\\n\"))\n",
    "for i in range(x):\n",
    "    for j in range(i+1):\n",
    "        print(\"#\",end='')\n",
    "    print(\"\")"
   ]
  },
  {
   "cell_type": "code",
   "execution_count": 41,
   "id": "d65a8de0-bbb0-407c-b3f0-bf5bf56dd2b2",
   "metadata": {},
   "outputs": [],
   "source": [
    "#20. Write a program to find the greatest common divisor (GCD) of two numbers using a `for` loop.\n"
   ]
  },
  {
   "cell_type": "code",
   "execution_count": 2,
   "id": "71a88402-84f6-45f2-85aa-00b8b7a49232",
   "metadata": {},
   "outputs": [
    {
     "name": "stdout",
     "output_type": "stream",
     "text": [
      "GCD of 20 and 40 is: 20\n"
     ]
    }
   ],
   "source": [
    "x = 40\n",
    "y = 20\n",
    "if x > y:\n",
    "  x, y = y, x\n",
    "for i in range(1,x+1):\n",
    "  if x%i == 0 and y%i == 0:\n",
    "    gcd = i\n",
    "\n",
    "print(\"GCD of\", x, \"and\", y, \"is:\", gcd)"
   ]
  },
  {
   "cell_type": "code",
   "execution_count": null,
   "id": "62ce1fae-e6ca-41c9-9180-e8a6465450e6",
   "metadata": {},
   "outputs": [],
   "source": []
  },
  {
   "cell_type": "code",
   "execution_count": 1,
   "id": "a904aa2e-7119-427d-8f40-50a650404395",
   "metadata": {},
   "outputs": [],
   "source": [
    "#24. Create a program that generates a list of all palindromic numbers up to a specified limit using a listcomprehension."
   ]
  },
  {
   "cell_type": "code",
   "execution_count": 3,
   "id": "c6054a68-efd6-4a06-a926-b35b91c47e0a",
   "metadata": {},
   "outputs": [],
   "source": [
    "#27. Create a program that generates a list of squares of odd numbers between 1 and 10 using listcomprehension."
   ]
  },
  {
   "cell_type": "code",
   "execution_count": null,
   "id": "39431643-5ad3-4b10-9a13-e581a56084f5",
   "metadata": {},
   "outputs": [],
   "source": []
  }
 ],
 "metadata": {
  "kernelspec": {
   "display_name": "Python 3 (ipykernel)",
   "language": "python",
   "name": "python3"
  },
  "language_info": {
   "codemirror_mode": {
    "name": "ipython",
    "version": 3
   },
   "file_extension": ".py",
   "mimetype": "text/x-python",
   "name": "python",
   "nbconvert_exporter": "python",
   "pygments_lexer": "ipython3",
   "version": "3.10.8"
  }
 },
 "nbformat": 4,
 "nbformat_minor": 5
}
